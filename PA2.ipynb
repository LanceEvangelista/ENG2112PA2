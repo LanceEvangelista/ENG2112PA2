{
 "cells": [
  {
   "cell_type": "markdown",
   "id": "07a480b0-3dc1-4268-b186-b542d288903d",
   "metadata": {},
   "source": [
    "# NORMALIZATION PROBLEM"{
 "cells": [
  {
   "cell_type": "markdown",
   "id": "07a480b0-3dc1-4268-b186-b542d288903d",
   "metadata": {},
   "source": [
    "# NORMALIZATION PROBLEM"
   ]
  },
  {
   "cell_type": "code",
   "execution_count": 7,
   "id": "75d104d1-3c33-4340-a2d3-93a4501fdfda",
   "metadata": {},
   "outputs": [],
   "source": [
    "import numpy as np\n",
    "\n",
    "#Generate the initial random array of size 5x5\n",
    "\n",
    "x = np.random.random((5,5))\n",
    "\n",
    "#Get the Mean and standard deviation using .mean and .std\n",
    "x_mean = x.mean()\n",
    "x_std = x.std()\n",
    "\n",
    "#calculate for the normalized array\n",
    "\n",
    "x_normalized = ((x - x_mean)/x_std)\n",
    "\n",
    "# Save to .npy file\n",
    "np.save('x_normalized.npy', x_normalized)"
   ]
  },
  {
   "cell_type": "code",
   "execution_count": 9,
   "id": "5238a8e1-675f-4268-88a8-9211997b80a9",
   "metadata": {},
   "outputs": [
    {
     "name": "stdout",
     "output_type": "stream",
     "text": [
      "[[ 0.6142165   0.45706555 -0.83336743 -1.71131259  1.74404781]\n",
      " [ 1.66505532  1.00476596 -1.39577854 -1.19293716  1.49561821]\n",
      " [ 0.27731653 -0.52277305 -1.41799089 -0.94368246  0.39948121]\n",
      " [-0.44352286 -0.47852622 -0.78301     0.294615   -0.31485084]\n",
      " [-0.3815356   1.19339625  0.44905929 -0.48536872  1.31001872]]\n"
     ]
    }
   ],
   "source": [
    "z = np.load(\"x_normalized.npy\")\n",
    "print(z)"
   ]
  },
  {
   "cell_type": "markdown",
   "id": "8e631f3e-c457-4c1d-abd2-065c62a70e13",
   "metadata": {},
   "source": [
    "# DIVISIBLE BY 3 PROBLEM"
   ]
  },
  {
   "cell_type": "code",
   "execution_count": 1,
   "id": "6bdfe937-8aec-4935-829b-d9076be1f5e1",
   "metadata": {},
   "outputs": [
    {
     "name": "stdout",
     "output_type": "stream",
     "text": [
      "[    1     4     9    16    25    36    49    64    81   100   121   144\n",
      "   169   196   225   256   289   324   361   400   441   484   529   576\n",
      "   625   676   729   784   841   900   961  1024  1089  1156  1225  1296\n",
      "  1369  1444  1521  1600  1681  1764  1849  1936  2025  2116  2209  2304\n",
      "  2401  2500  2601  2704  2809  2916  3025  3136  3249  3364  3481  3600\n",
      "  3721  3844  3969  4096  4225  4356  4489  4624  4761  4900  5041  5184\n",
      "  5329  5476  5625  5776  5929  6084  6241  6400  6561  6724  6889  7056\n",
      "  7225  7396  7569  7744  7921  8100  8281  8464  8649  8836  9025  9216\n",
      "  9409  9604  9801 10000]\n"
     ]
    }
   ],
   "source": [
    "import numpy as np\n",
    "\n",
    "#generate a 10 x 10 nd Array\n",
    "\n",
    "intarray = np.arange(1, 101) ** 2\n",
    "\n",
    "for x in intarray:\n",
    "    divisible = intarray[intarray % 3 == 0]\n",
    "    \n",
    "print(intarray)\n",
    "\n",
    "#save as .npy\n",
    "\n",
    "np.save(\"div_by_3.npy\", divisible)"
   ]
  },
  {
   "cell_type": "code",
   "execution_count": 25,
   "id": "38b0307b-6324-43c6-9310-69642e5ea6bb",
   "metadata": {},
   "outputs": [
    {
     "name": "stdout",
     "output_type": "stream",
     "text": [
      "[   9   36   81  144  225  324  441  576  729  900 1089 1296 1521 1764\n",
      " 2025 2304 2601 2916 3249 3600 3969 4356 4761 5184 5625 6084 6561 7056\n",
      " 7569 8100 8649 9216 9801]\n"
     ]
    }
   ],
   "source": [
    "v = np.load(\"div_by_3.npy\")\n",
    "print(v)"
   ]
  },
  {
   "cell_type": "code",
   "execution_count": null,
   "id": "191cfccb-e839-46c7-b26c-c1a1691f6215",
   "metadata": {},
   "outputs": [],
   "source": []
  }
 ],
 "metadata": {
  "kernelspec": {
   "display_name": "Python 3 (ipykernel)",
   "language": "python",
   "name": "python3"
  },
  "language_info": {
   "codemirror_mode": {
    "name": "ipython",
    "version": 3
   },
   "file_extension": ".py",
   "mimetype": "text/x-python",
   "name": "python",
   "nbconvert_exporter": "python",
   "pygments_lexer": "ipython3",
   "version": "3.11.4"
  }
 },
 "nbformat": 4,
 "nbformat_minor": 5
}

   ]
  },
  {
   "cell_type": "code",
   "execution_count": 7,
   "id": "75d104d1-3c33-4340-a2d3-93a4501fdfda",
   "metadata": {},
   "outputs": [],
   "source": [
    "import numpy as np\n",
    "\n",
    "#Generate the initial random array of size 5x5\n",
    "\n",
    "x = np.random.random((5,5))\n",
    "\n",
    "#Get the Mean and standard deviation using .mean and .std\n",
    "x_mean = x.mean()\n",
    "x_std = x.std()\n",
    "\n",
    "#calculate for the normalized array\n",
    "\n",
    "x_normalized = ((x - x_mean)/x_std)\n",
    "\n",
    "# Save to .npy file\n",
    "np.save('x_normalized.npy', x_normalized)"
   ]
  },
  {
   "cell_type": "code",
   "execution_count": 9,
   "id": "5238a8e1-675f-4268-88a8-9211997b80a9",
   "metadata": {},
   "outputs": [
    {
     "name": "stdout",
     "output_type": "stream",
     "text": [
      "[[ 0.6142165   0.45706555 -0.83336743 -1.71131259  1.74404781]\n",
      " [ 1.66505532  1.00476596 -1.39577854 -1.19293716  1.49561821]\n",
      " [ 0.27731653 -0.52277305 -1.41799089 -0.94368246  0.39948121]\n",
      " [-0.44352286 -0.47852622 -0.78301     0.294615   -0.31485084]\n",
      " [-0.3815356   1.19339625  0.44905929 -0.48536872  1.31001872]]\n"
     ]
    }
   ],
   "source": [
    "z = np.load(\"x_normalized.npy\")\n",
    "print(z)"
   ]
  },
  {
   "cell_type": "markdown",
   "id": "8e631f3e-c457-4c1d-abd2-065c62a70e13",
   "metadata": {},
   "source": [
    "# DIVISIBLE BY 3 PROBLEM"
   ]
  },
  {
   "cell_type": "code",
   "execution_count": 24,
   "id": "6bdfe937-8aec-4935-829b-d9076be1f5e1",
   "metadata": {},
   "outputs": [
    {
     "name": "stdout",
     "output_type": "stream",
     "text": [
      "[   9   36   81  144  225  324  441  576  729  900 1089 1296 1521 1764\n",
      " 2025 2304 2601 2916 3249 3600 3969 4356 4761 5184 5625 6084 6561 7056\n",
      " 7569 8100 8649 9216 9801]\n"
     ]
    }
   ],
   "source": [
    "import numpy as np\n",
    "\n",
    "#generate a 10 x 10 nd Array\n",
    "\n",
    "intarray = np.arange(1, 101) ** 2\n",
    "\n",
    "for x in intarray:\n",
    "    divisible = intarray[intarray % 3 == 0]\n",
    "    \n",
    "print(divisible)\n",
    "\n",
    "#save as .npy\n",
    "\n",
    "np.save(\"div_by_3.npy\", divisible)"
   ]
  },
  {
   "cell_type": "code",
   "execution_count": 25,
   "id": "38b0307b-6324-43c6-9310-69642e5ea6bb",
   "metadata": {},
   "outputs": [
    {
     "name": "stdout",
     "output_type": "stream",
     "text": [
      "[   9   36   81  144  225  324  441  576  729  900 1089 1296 1521 1764\n",
      " 2025 2304 2601 2916 3249 3600 3969 4356 4761 5184 5625 6084 6561 7056\n",
      " 7569 8100 8649 9216 9801]\n"
     ]
    }
   ],
   "source": [
    "v = np.load(\"div_by_3.npy\")\n",
    "print(v)"
   ]
  },
  {
   "cell_type": "code",
   "execution_count": null,
   "id": "191cfccb-e839-46c7-b26c-c1a1691f6215",
   "metadata": {},
   "outputs": [],
   "source": []
  }
 ],
 "metadata": {
  "kernelspec": {
   "display_name": "Python 3 (ipykernel)",
   "language": "python",
   "name": "python3"
  },
  "language_info": {
   "codemirror_mode": {
    "name": "ipython",
    "version": 3
   },
   "file_extension": ".py",
   "mimetype": "text/x-python",
   "name": "python",
   "nbconvert_exporter": "python",
   "pygments_lexer": "ipython3",
   "version": "3.13.5"
  }
 },
 "nbformat": 4,
 "nbformat_minor": 5
}
